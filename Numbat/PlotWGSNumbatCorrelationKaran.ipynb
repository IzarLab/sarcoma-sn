{
 "cells": [
  {
   "cell_type": "code",
   "execution_count": 5,
   "id": "90bfd783",
   "metadata": {},
   "outputs": [],
   "source": [
    "import pandas as pd\n",
    "import matplotlib.pyplot as plt\n",
    "from matplotlib.pyplot import figure\n",
    "from collections import Counter"
   ]
  },
  {
   "cell_type": "code",
   "execution_count": 27,
   "id": "811e379e",
   "metadata": {},
   "outputs": [],
   "source": [
    "def add_color(row, gene_segs):\n",
    "    \n",
    "    temp = gene_segs[gene_segs[\"POS\"] > row[\"seg_start\"]]\n",
    "    temp = temp[temp[\"POS\"] < row[\"seg_end\"]]\n",
    "    temp = temp[temp[\"CHROM\"] == row[\"CHROM\"]]\n",
    "    if (len(temp)>0): \n",
    "        return Counter(temp[\"state_post\"].map(plotting_assignments)).most_common()[0][0]\n",
    "    return 'w'\n",
    "\n",
    "\n",
    "\n",
    "plotting_assignments = {'amp_1_down':'#8b0100',\n",
    " 'amp_1_up':'#8b0100',\n",
    " 'amp_2_down':'#8b0100',\n",
    " 'amp_2_up':'#8b0100',\n",
    " 'bdel':'#1601ff',\n",
    " 'del_1_down':'#07008b',\n",
    " 'del_1_up':'#07008b',\n",
    " 'del_2_down':'#07008b',\n",
    " 'del_2_up':'#07008b',\n",
    " 'loh_1_down':'#006300',\n",
    " 'loh_1_up':'#006300',\n",
    " 'loh_2_down':'#006300',\n",
    " 'loh_2_up':'#006300',\n",
    " 'neu':'w',\n",
    " 'bamp': '#f98072'}\n",
    "\n",
    "wgs_map = { 'GAIN':'#8a0702', #maroon\n",
    "            'HLAMP': 'w',\n",
    "            'NEUT': '#2800ff', #blue\n",
    "            'AMP': '#f41707', #red\n",
    "            'HETD': \"#166401\" #green\n",
    "          }\n",
    "\n",
    "\n",
    "pat = \"708\"\n",
    "n_clones = 6\n",
    "write_dir = 'numbat_wgs_export_files/'\n",
    "\n",
    "segs = []\n",
    "clones = []\n",
    "for x in range(n_clones):\n",
    "    segs.append(pd.read_csv(write_dir + pat+ \"/numbat\" + str(x+1) + \"clone_segments.csv\"))\n",
    "    clones.append(pd.read_csv(write_dir + pat + \"/numbat\" + str(x+1) + \"clone_gene_changes.csv\"))\n",
    "\n",
    "for x in range(len(segs)):\n",
    "    segs[x][\"color\"] = segs[x].apply(lambda y: add_color(y, clones[x]), axis = 1)\n",
    "\n",
    "    \n",
    "wgs = pd.read_csv(write_dir +pat + \"_wgs_segments.csv\")\n"
   ]
  },
  {
   "cell_type": "code",
   "execution_count": 28,
   "id": "126b10a8",
   "metadata": {},
   "outputs": [],
   "source": [
    "import numpy as np\n",
    "segs[0]['log_transformed'] = np.log(segs[0]['phi_mle'])\n",
    "segs[1]['log_transformed'] = np.log(segs[1]['phi_mle'])\n",
    "segs[2]['log_transformed'] = np.log(segs[2]['phi_mle'])\n"
   ]
  },
  {
   "cell_type": "code",
   "execution_count": 29,
   "id": "0d5db1a7",
   "metadata": {},
   "outputs": [
    {
     "data": {
      "text/plain": [
       "array([[<AxesSubplot:title={'center':'log_transformed'}>]], dtype=object)"
      ]
     },
     "execution_count": 29,
     "metadata": {},
     "output_type": "execute_result"
    },
    {
     "data": {
      "image/png": "[encoded data removed]",
      "text/plain": [
       "<Figure size 432x288 with 1 Axes>"
      ]
     },
     "metadata": {
      "needs_background": "light"
     },
     "output_type": "display_data"
    }
   ],
   "source": [
    "(segs[2]).hist('log_transformed')"
   ]
  },
  {
   "cell_type": "code",
   "execution_count": 30,
   "id": "343b4461",
   "metadata": {
    "scrolled": true
   },
   "outputs": [
    {
     "name": "stderr",
     "output_type": "stream",
     "text": [
      "/tmp/ipykernel_2148/2520257715.py:29: SettingWithCopyWarning: \n",
      "A value is trying to be set on a copy of a slice from a DataFrame.\n",
      "Try using .loc[row_indexer,col_indexer] = value instead\n",
      "\n",
      "See the caveats in the documentation: https://pandas.pydata.org/pandas-docs/stable/user_guide/indexing.html#returning-a-view-versus-a-copy\n",
      "  segments[\"seg_start\"] = segments[\"seg_start\"] + off_set\n",
      "/tmp/ipykernel_2148/2520257715.py:30: SettingWithCopyWarning: \n",
      "A value is trying to be set on a copy of a slice from a DataFrame.\n",
      "Try using .loc[row_indexer,col_indexer] = value instead\n",
      "\n",
      "See the caveats in the documentation: https://pandas.pydata.org/pandas-docs/stable/user_guide/indexing.html#returning-a-view-versus-a-copy\n",
      "  segments[\"seg_end\"] = segments[\"seg_end\"] + off_set\n",
      "/tmp/ipykernel_2148/2520257715.py:34: SettingWithCopyWarning: \n",
      "A value is trying to be set on a copy of a slice from a DataFrame.\n",
      "Try using .loc[row_indexer,col_indexer] = value instead\n",
      "\n",
      "See the caveats in the documentation: https://pandas.pydata.org/pandas-docs/stable/user_guide/indexing.html#returning-a-view-versus-a-copy\n",
      "  shorted_wgs[\"start\"] =  shorted_wgs[\"start\"] + off_set\n",
      "/tmp/ipykernel_2148/2520257715.py:35: SettingWithCopyWarning: \n",
      "A value is trying to be set on a copy of a slice from a DataFrame.\n",
      "Try using .loc[row_indexer,col_indexer] = value instead\n",
      "\n",
      "See the caveats in the documentation: https://pandas.pydata.org/pandas-docs/stable/user_guide/indexing.html#returning-a-view-versus-a-copy\n",
      "  shorted_wgs[\"end\"] =  shorted_wgs[\"end\"] + off_set\n"
     ]
    }
   ],
   "source": [
    "chrom_min_max = []\n",
    "\n",
    "for i in set(wgs[\"chr\"]):\n",
    "    mins = []\n",
    "    maxs = []\n",
    "    for x in segs:\n",
    "        t = x[x[\"CHROM\"] == i]\n",
    "        mins.append(min(t[\"seg_start\"]))\n",
    "        maxs.append(min(t[\"seg_end\"]))\n",
    "    shorted_wgs = wgs[wgs[\"chr\"] == i]\n",
    "    mins.append(min(shorted_wgs[\"start\"]))\n",
    "    maxs.append(max(shorted_wgs[\"end\"]))\n",
    "    chrom_min_max.append((min(mins), max(maxs)))\n",
    "\n",
    "wgs_split = []\n",
    "segments_adj = []\n",
    "for x in range(n_clones):\n",
    "    segments_adj.append([])\n",
    "\n",
    "for i in set(wgs[\"chr\"]):\n",
    "    off_set = 0 \n",
    "    for j in range(i-1):\n",
    "        off_set = off_set + chrom_min_max[j][1]\n",
    "    j = 0\n",
    "    for index in range(len(segs)):\n",
    "        segments_full = segs[index]\n",
    "        segments = segments_full[segments_full[\"CHROM\"] == i]\n",
    "        #segments[\"color\"] = segments.apply(lambda y: add_color(y, x), axis = 1)\n",
    "        segments[\"seg_start\"] = segments[\"seg_start\"] + off_set\n",
    "        segments[\"seg_end\"] = segments[\"seg_end\"] + off_set\n",
    "        segments_adj[index].append(segments)\n",
    "        j = j+1\n",
    "    shorted_wgs = wgs[wgs[\"chr\"] == i]\n",
    "    shorted_wgs[\"start\"] =  shorted_wgs[\"start\"] + off_set\n",
    "    shorted_wgs[\"end\"] =  shorted_wgs[\"end\"] + off_set\n",
    "    wgs_split.append(shorted_wgs)\n",
    "    \n",
    "final_segs = []\n",
    "final_wgs = pd.concat(wgs_split)\n",
    "for x in segments_adj:\n",
    "    if len(x) >0:\n",
    "        final_segs.append(pd.concat(x))\n",
    "    else:\n",
    "        final_segs.append(pd.DataFrame())"
   ]
  },
  {
   "cell_type": "code",
   "execution_count": 31,
   "id": "80d08d7a",
   "metadata": {},
   "outputs": [
    {
     "data": {
      "text/plain": [
       "([], [])"
      ]
     },
     "execution_count": 31,
     "metadata": {},
     "output_type": "execute_result"
    },
    {
     "data": {
      "image/png": "[encoded data removed]",
      "text/plain": [
       "<Figure size 400x1600 with 1 Axes>"
      ]
     },
     "metadata": {
      "needs_background": "light"
     },
     "output_type": "display_data"
    }
   ],
   "source": [
    "figure(figsize=(5, 20), dpi=80)\n",
    "\n",
    "#PLOT WGS\n",
    "plt.bar([1]*len(final_wgs), \n",
    "        final_wgs.end-final_wgs.start, bottom=final_wgs.start, color=\n",
    "        final_wgs[\"event\"].map(wgs_map), edgecolor='w')\n",
    "\n",
    "\n",
    "\n",
    "\n",
    "for i,x in final_wgs.drop_duplicates(subset = \"chr\").iterrows():\n",
    "    plt.axhline(y=x[\"start\"], color='k', linestyle='-', xmin = 0, xmax = 1, linewidth = 0.2)\n",
    "    \n",
    "t = final_wgs[final_wgs[\"event\"] == 'NEUT']\n",
    "\n",
    "\n",
    "\n",
    "x_ax = 1.0/n_clones\n",
    "\n",
    "plt.bar([n_clones+1]*len(t), \n",
    "        t.end-t.start, bottom=t.start, color=\n",
    "        t[\"event\"].map(wgs_map), edgecolor='w')\n",
    "\n",
    "spot = 2\n",
    "for clone in final_segs:\n",
    "    plt.bar([spot]*len(clone), \n",
    "        clone.seg_end-clone.seg_start, bottom=clone.seg_start, color=\n",
    "        clone[\"color\"], edgecolor='w')\n",
    "    spot = spot+1\n",
    "plt.yticks([])\n"
   ]
  },
  {
   "cell_type": "code",
   "execution_count": null,
   "id": "462585ec",
   "metadata": {},
   "outputs": [],
   "source": []
  },
  {
   "cell_type": "code",
   "execution_count": null,
   "id": "5c14b57f",
   "metadata": {},
   "outputs": [],
   "source": []
  },
  {
   "cell_type": "code",
   "execution_count": null,
   "id": "3a60b021",
   "metadata": {},
   "outputs": [],
   "source": []
  }
 ],
 "metadata": {
  "kernelspec": {
   "display_name": "Python 3 (ipykernel)",
   "language": "python",
   "name": "python3"
  },
  "language_info": {
   "codemirror_mode": {
    "name": "ipython",
    "version": 3
   },
   "file_extension": ".py",
   "mimetype": "text/x-python",
   "name": "python",
   "nbconvert_exporter": "python",
   "pygments_lexer": "ipython3",
   "version": "3.9.12"
  }
 },
 "nbformat": 4,
 "nbformat_minor": 5
}
